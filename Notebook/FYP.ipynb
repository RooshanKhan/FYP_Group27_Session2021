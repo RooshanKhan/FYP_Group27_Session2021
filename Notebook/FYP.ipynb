{
  "cells": [
    {
      "cell_type": "code",
      "execution_count": null,
      "metadata": {
        "id": "LFIix53mNmWO"
      },
      "outputs": [],
      "source": []
    },
    {
      "cell_type": "code",
      "execution_count": 2,
      "metadata": {
        "colab": {
          "base_uri": "https://localhost:8080/"
        },
        "id": "1gI9b1b0NnFV",
        "outputId": "555e1b0b-3d9b-43ae-97d0-301d49fd506f"
      },
      "outputs": [
        {
          "name": "stdout",
          "output_type": "stream",
          "text": [
            "Mounted at /content/drive\n"
          ]
        }
      ],
      "source": [
        "from google.colab import drive\n",
        "drive.mount('/content/drive')\n"
      ]
    },
    {
      "cell_type": "code",
      "execution_count": 3,
      "metadata": {
        "colab": {
          "base_uri": "https://localhost:8080/"
        },
        "id": "oEEmcscTN8CJ",
        "outputId": "c3abe0ec-152e-4e98-b030-a6239aa89ab3"
      },
      "outputs": [
        {
          "name": "stdout",
          "output_type": "stream",
          "text": [
            "/content/drive/MyDrive/FYP_Group27_Session2021\n"
          ]
        }
      ],
      "source": [
        "%cd /content/drive/MyDrive/FYP_Group27_Session2021\n"
      ]
    },
    {
      "cell_type": "code",
      "execution_count": null,
      "metadata": {
        "colab": {
          "base_uri": "https://localhost:8080/"
        },
        "id": "WOt8mzJBOGhf",
        "outputId": "be1a3730-ceab-4d81-ffbe-d41c74061e47"
      },
      "outputs": [
        {
          "name": "stdout",
          "output_type": "stream",
          "text": [
            "base_bert.py\t      evaluation.py\t       predictions\t  sst-classifier.pt\n",
            "bert.py\t\t      GroupMembers\t       prepare_submit.py  texput.log\n",
            "cfimdb-classifier.pt  LICENSE\t\t       __pycache__\t  tokenizer.py\n",
            "classifier.py\t      multitask_classifier.py  README.md\t  utils.py\n",
            "config.py\t      optimizer.py\t       sanity_check.data  Work_Latex_pdf\n",
            "data\t\t      optimizer_test.npy       sanity_check.py\n",
            "datasets.py\t      optimizer_test.py        setup.sh\n"
          ]
        }
      ],
      "source": [
        "!ls\n"
      ]
    },
    {
      "cell_type": "code",
      "execution_count": null,
      "metadata": {
        "colab": {
          "base_uri": "https://localhost:8080/"
        },
        "id": "gWmhfU71PbSs",
        "outputId": "60b7dea0-4f2b-441b-d3f0-f998a1ca9697"
      },
      "outputs": [
        {
          "name": "stdout",
          "output_type": "stream",
          "text": [
            "Python 3.11.11 (main, Dec  4 2024, 08:55:07) [GCC 11.4.0] on linux\n",
            "Type \"help\", \"copyright\", \"credits\" or \"license\" for more information.\n",
            ">>> exit()\n"
          ]
        }
      ],
      "source": [
        "!python\n"
      ]
    },
    {
      "cell_type": "code",
      "execution_count": 4,
      "metadata": {
        "id": "nsbst7YTPvpp"
      },
      "outputs": [],
      "source": [
        "!python bert.py"
      ]
    },
    {
      "cell_type": "code",
      "execution_count": 5,
      "metadata": {
        "colab": {
          "base_uri": "https://localhost:8080/"
        },
        "id": "BOxAfeeIQdWs",
        "outputId": "ac253d01-832c-4f92-f106-78b6798b4494"
      },
      "outputs": [
        {
          "name": "stdout",
          "output_type": "stream",
          "text": [
            "/content/drive/MyDrive/FYP_Group27_Session2021/sanity_check.py:5: FutureWarning: You are using `torch.load` with `weights_only=False` (the current default value), which uses the default pickle module implicitly. It is possible to construct malicious pickle data which will execute arbitrary code during unpickling (See https://github.com/pytorch/pytorch/blob/main/SECURITY.md#untrusted-models for more details). In a future release, the default value for `weights_only` will be flipped to `True`. This limits the functions that could be executed during unpickling. Arbitrary objects will no longer be allowed to be loaded via this mode unless they are explicitly allowlisted by the user via `torch.serialization.add_safe_globals`. We recommend you start setting `weights_only=True` for any use case where you don't have full control of the loaded file. Please open an issue on GitHub for any issues related to this experimental feature.\n",
            "  sanity_data = torch.load(\"./sanity_check.data\")\n",
            "Downloading: 100% 570/570 [00:00<00:00, 3.19MB/s]\n",
            "Downloading: 100% 440M/440M [00:05<00:00, 82.4MB/s]\n",
            "/content/drive/MyDrive/FYP_Group27_Session2021/base_bert.py:115: FutureWarning: You are using `torch.load` with `weights_only=False` (the current default value), which uses the default pickle module implicitly. It is possible to construct malicious pickle data which will execute arbitrary code during unpickling (See https://github.com/pytorch/pytorch/blob/main/SECURITY.md#untrusted-models for more details). In a future release, the default value for `weights_only` will be flipped to `True`. This limits the functions that could be executed during unpickling. Arbitrary objects will no longer be allowed to be loaded via this mode unless they are explicitly allowlisted by the user via `torch.serialization.add_safe_globals`. We recommend you start setting `weights_only=True` for any use case where you don't have full control of the loaded file. Please open an issue on GitHub for any issues related to this experimental feature.\n",
            "  state_dict = torch.load(resolved_archive_file, map_location=\"cpu\")\n",
            "Your BERT implementation is correct!\n"
          ]
        }
      ],
      "source": [
        "!python sanity_check.py"
      ]
    },
    {
      "cell_type": "code",
      "execution_count": null,
      "metadata": {
        "colab": {
          "background_save": true
        },
        "id": "6wqFLOXYQib0"
      },
      "outputs": [],
      "source": [
        "!python optimizer_test.py"
      ]
    },
    {
      "cell_type": "code",
      "execution_count": null,
      "metadata": {
        "colab": {
          "base_uri": "https://localhost:8080/"
        },
        "id": "bNJrDjA7QrhK",
        "outputId": "532e4253-ee32-40bc-a608-cf76f2974fb6"
      },
      "outputs": [
        {
          "name": "stdout",
          "output_type": "stream",
          "text": [
            "Training Sentiment Classifier on SST...\n",
            "device= cuda\n",
            "load 8544 data from data/ids-sst-train.csv\n",
            "load 1101 data from data/ids-sst-dev.csv\n",
            "Downloading: 100% 232k/232k [00:00<00:00, 6.90MB/s]\n",
            "Downloading: 100% 570/570 [00:00<00:00, 3.77MB/s]\n",
            "Downloading: 100% 440M/440M [00:07<00:00, 55.1MB/s]\n",
            "/content/drive/MyDrive/FYP_Group27_Session2021/base_bert.py:115: FutureWarning: You are using `torch.load` with `weights_only=False` (the current default value), which uses the default pickle module implicitly. It is possible to construct malicious pickle data which will execute arbitrary code during unpickling (See https://github.com/pytorch/pytorch/blob/main/SECURITY.md#untrusted-models for more details). In a future release, the default value for `weights_only` will be flipped to `True`. This limits the functions that could be executed during unpickling. Arbitrary objects will no longer be allowed to be loaded via this mode unless they are explicitly allowlisted by the user via `torch.serialization.add_safe_globals`. We recommend you start setting `weights_only=True` for any use case where you don't have full control of the loaded file. Please open an issue on GitHub for any issues related to this experimental feature.\n",
            "  state_dict = torch.load(resolved_archive_file, map_location=\"cpu\")\n",
            "train-0: 100% 1068/1068 [00:23<00:00, 46.07it/s]\n",
            "device= cuda\n",
            "eval: 100% 1068/1068 [00:22<00:00, 47.24it/s]\n",
            "device= cuda\n",
            "eval: 100% 138/138 [00:02<00:00, 49.31it/s]\n",
            "save the model to sst-classifier.pt\n",
            "Epoch 0: train loss :: 1.586, train acc :: 0.387, dev acc :: 0.369\n",
            "train-1: 100% 1068/1068 [00:24<00:00, 43.93it/s]\n",
            "device= cuda\n",
            "eval: 100% 1068/1068 [00:22<00:00, 46.45it/s]\n",
            "device= cuda\n",
            "eval: 100% 138/138 [00:02<00:00, 48.55it/s]\n",
            "save the model to sst-classifier.pt\n",
            "Epoch 1: train loss :: 1.536, train acc :: 0.404, dev acc :: 0.377\n",
            "train-2: 100% 1068/1068 [00:24<00:00, 43.70it/s]\n",
            "device= cuda\n",
            "eval: 100% 1068/1068 [00:23<00:00, 45.36it/s]\n",
            "device= cuda\n",
            "eval: 100% 138/138 [00:02<00:00, 46.89it/s]\n",
            "Epoch 2: train loss :: 1.505, train acc :: 0.328, dev acc :: 0.305\n",
            "train-3: 100% 1068/1068 [00:24<00:00, 44.31it/s]\n",
            "device= cuda\n",
            "eval: 100% 1068/1068 [00:24<00:00, 43.95it/s]\n",
            "device= cuda\n",
            "eval: 100% 138/138 [00:03<00:00, 45.70it/s]\n",
            "Epoch 3: train loss :: 1.491, train acc :: 0.342, dev acc :: 0.312\n",
            "train-4: 100% 1068/1068 [00:24<00:00, 43.39it/s]\n",
            "device= cuda\n",
            "eval: 100% 1068/1068 [00:23<00:00, 44.64it/s]\n",
            "device= cuda\n",
            "eval: 100% 138/138 [00:03<00:00, 43.91it/s]\n",
            "Epoch 4: train loss :: 1.482, train acc :: 0.323, dev acc :: 0.319\n",
            "train-5: 100% 1068/1068 [00:24<00:00, 43.07it/s]\n",
            "device= cuda\n",
            "eval: 100% 1068/1068 [00:24<00:00, 43.88it/s]\n",
            "device= cuda\n",
            "eval: 100% 138/138 [00:03<00:00, 44.19it/s]\n",
            "Epoch 5: train loss :: 1.476, train acc :: 0.363, dev acc :: 0.347\n",
            "train-6: 100% 1068/1068 [00:24<00:00, 43.54it/s]\n",
            "device= cuda\n",
            "eval: 100% 1068/1068 [00:24<00:00, 43.67it/s]\n",
            "device= cuda\n",
            "eval: 100% 138/138 [00:03<00:00, 45.08it/s]\n",
            "Epoch 6: train loss :: 1.465, train acc :: 0.389, dev acc :: 0.375\n",
            "train-7: 100% 1068/1068 [00:24<00:00, 43.07it/s]\n",
            "device= cuda\n",
            "eval: 100% 1068/1068 [00:24<00:00, 43.74it/s]\n",
            "device= cuda\n",
            "eval: 100% 138/138 [00:03<00:00, 45.58it/s]\n",
            "save the model to sst-classifier.pt\n",
            "Epoch 7: train loss :: 1.479, train acc :: 0.432, dev acc :: 0.409\n",
            "train-8: 100% 1068/1068 [00:26<00:00, 39.79it/s]\n",
            "device= cuda\n",
            "eval: 100% 1068/1068 [00:24<00:00, 43.10it/s]\n",
            "device= cuda\n",
            "eval: 100% 138/138 [00:03<00:00, 42.90it/s]\n",
            "Epoch 8: train loss :: 1.465, train acc :: 0.320, dev acc :: 0.297\n",
            "train-9: 100% 1068/1068 [00:24<00:00, 43.63it/s]\n",
            "device= cuda\n",
            "eval: 100% 1068/1068 [00:24<00:00, 43.85it/s]\n",
            "device= cuda\n",
            "eval: 100% 138/138 [00:03<00:00, 44.17it/s]\n",
            "Epoch 9: train loss :: 1.473, train acc :: 0.393, dev acc :: 0.373\n",
            "Evaluating on SST...\n",
            "device= cuda\n",
            "/content/drive/MyDrive/FYP_Group27_Session2021/classifier.py:322: FutureWarning: You are using `torch.load` with `weights_only=False` (the current default value), which uses the default pickle module implicitly. It is possible to construct malicious pickle data which will execute arbitrary code during unpickling (See https://github.com/pytorch/pytorch/blob/main/SECURITY.md#untrusted-models for more details). In a future release, the default value for `weights_only` will be flipped to `True`. This limits the functions that could be executed during unpickling. Arbitrary objects will no longer be allowed to be loaded via this mode unless they are explicitly allowlisted by the user via `torch.serialization.add_safe_globals`. We recommend you start setting `weights_only=True` for any use case where you don't have full control of the loaded file. Please open an issue on GitHub for any issues related to this experimental feature.\n",
            "  saved = torch.load(args.filepath)\n",
            "/content/drive/MyDrive/FYP_Group27_Session2021/base_bert.py:115: FutureWarning: You are using `torch.load` with `weights_only=False` (the current default value), which uses the default pickle module implicitly. It is possible to construct malicious pickle data which will execute arbitrary code during unpickling (See https://github.com/pytorch/pytorch/blob/main/SECURITY.md#untrusted-models for more details). In a future release, the default value for `weights_only` will be flipped to `True`. This limits the functions that could be executed during unpickling. Arbitrary objects will no longer be allowed to be loaded via this mode unless they are explicitly allowlisted by the user via `torch.serialization.add_safe_globals`. We recommend you start setting `weights_only=True` for any use case where you don't have full control of the loaded file. Please open an issue on GitHub for any issues related to this experimental feature.\n",
            "  state_dict = torch.load(resolved_archive_file, map_location=\"cpu\")\n",
            "load model from sst-classifier.pt\n",
            "load 1101 data from data/ids-sst-dev.csv\n",
            "device= cuda\n",
            "eval: 100% 138/138 [00:03<00:00, 44.40it/s]\n",
            "DONE DEV\n",
            "device= cuda\n",
            "eval: 100% 277/277 [00:06<00:00, 44.17it/s]\n",
            "DONE Test\n",
            "dev acc :: 0.409\n",
            "Training Sentiment Classifier on cfimdb...\n",
            "device= cuda\n",
            "load 1707 data from data/ids-cfimdb-train.csv\n",
            "load 245 data from data/ids-cfimdb-dev.csv\n",
            "/content/drive/MyDrive/FYP_Group27_Session2021/base_bert.py:115: FutureWarning: You are using `torch.load` with `weights_only=False` (the current default value), which uses the default pickle module implicitly. It is possible to construct malicious pickle data which will execute arbitrary code during unpickling (See https://github.com/pytorch/pytorch/blob/main/SECURITY.md#untrusted-models for more details). In a future release, the default value for `weights_only` will be flipped to `True`. This limits the functions that could be executed during unpickling. Arbitrary objects will no longer be allowed to be loaded via this mode unless they are explicitly allowlisted by the user via `torch.serialization.add_safe_globals`. We recommend you start setting `weights_only=True` for any use case where you don't have full control of the loaded file. Please open an issue on GitHub for any issues related to this experimental feature.\n",
            "  state_dict = torch.load(resolved_archive_file, map_location=\"cpu\")\n",
            "train-0: 100% 214/214 [00:43<00:00,  4.86it/s]\n",
            "device= cuda\n",
            "eval: 100% 214/214 [00:42<00:00,  5.00it/s]\n",
            "device= cuda\n",
            "eval: 100% 31/31 [00:06<00:00,  4.92it/s]\n",
            "save the model to cfimdb-classifier.pt\n",
            "Epoch 0: train loss :: 0.690, train acc :: 0.516, dev acc :: 0.522\n",
            "train-1: 100% 214/214 [00:45<00:00,  4.75it/s]\n",
            "device= cuda\n",
            "eval: 100% 214/214 [00:41<00:00,  5.10it/s]\n",
            "device= cuda\n",
            "eval: 100% 31/31 [00:06<00:00,  5.10it/s]\n",
            "save the model to cfimdb-classifier.pt\n",
            "Epoch 1: train loss :: 0.664, train acc :: 0.566, dev acc :: 0.551\n",
            "train-2: 100% 214/214 [00:44<00:00,  4.83it/s]\n",
            "device= cuda\n",
            "eval: 100% 214/214 [00:43<00:00,  4.97it/s]\n",
            "device= cuda\n",
            "eval: 100% 31/31 [00:06<00:00,  5.07it/s]\n",
            "save the model to cfimdb-classifier.pt\n",
            "Epoch 2: train loss :: 0.644, train acc :: 0.700, dev acc :: 0.686\n",
            "train-3: 100% 214/214 [00:44<00:00,  4.86it/s]\n",
            "device= cuda\n",
            "eval: 100% 214/214 [00:43<00:00,  4.92it/s]\n",
            "device= cuda\n",
            "eval: 100% 31/31 [00:06<00:00,  4.97it/s]\n",
            "save the model to cfimdb-classifier.pt\n",
            "Epoch 3: train loss :: 0.622, train acc :: 0.731, dev acc :: 0.767\n",
            "train-4: 100% 214/214 [00:44<00:00,  4.81it/s]\n",
            "device= cuda\n",
            "eval: 100% 214/214 [00:43<00:00,  4.93it/s]\n",
            "device= cuda\n",
            "eval: 100% 31/31 [00:06<00:00,  4.93it/s]\n",
            "Epoch 4: train loss :: 0.637, train acc :: 0.758, dev acc :: 0.751\n",
            "train-5: 100% 214/214 [00:43<00:00,  4.89it/s]\n",
            "device= cuda\n",
            "eval: 100% 214/214 [00:42<00:00,  4.99it/s]\n",
            "device= cuda\n",
            "eval: 100% 31/31 [00:06<00:00,  4.90it/s]\n",
            "save the model to cfimdb-classifier.pt\n",
            "Epoch 5: train loss :: 0.626, train acc :: 0.755, dev acc :: 0.784\n",
            "train-6: 100% 214/214 [00:44<00:00,  4.84it/s]\n",
            "device= cuda\n",
            "eval: 100% 214/214 [00:42<00:00,  4.98it/s]\n",
            "device= cuda\n",
            "eval: 100% 31/31 [00:06<00:00,  5.02it/s]\n",
            "Epoch 6: train loss :: 0.611, train acc :: 0.728, dev acc :: 0.702\n",
            "train-7: 100% 214/214 [00:43<00:00,  4.91it/s]\n",
            "device= cuda\n",
            "eval: 100% 214/214 [00:43<00:00,  4.96it/s]\n",
            "device= cuda\n",
            "eval: 100% 31/31 [00:06<00:00,  5.06it/s]\n",
            "save the model to cfimdb-classifier.pt\n",
            "Epoch 7: train loss :: 0.598, train acc :: 0.776, dev acc :: 0.788\n",
            "train-8: 100% 214/214 [00:43<00:00,  4.93it/s]\n",
            "device= cuda\n",
            "eval: 100% 214/214 [00:43<00:00,  4.91it/s]\n",
            "device= cuda\n",
            "eval: 100% 31/31 [00:06<00:00,  5.08it/s]\n",
            "Epoch 8: train loss :: 0.587, train acc :: 0.770, dev acc :: 0.776\n",
            "train-9: 100% 214/214 [00:43<00:00,  4.91it/s]\n",
            "device= cuda\n",
            "eval: 100% 214/214 [00:42<00:00,  5.00it/s]\n",
            "device= cuda\n",
            "eval: 100% 31/31 [00:06<00:00,  4.95it/s]\n",
            "Epoch 9: train loss :: 0.604, train acc :: 0.725, dev acc :: 0.678\n",
            "Evaluating on cfimdb...\n",
            "device= cuda\n",
            "/content/drive/MyDrive/FYP_Group27_Session2021/classifier.py:322: FutureWarning: You are using `torch.load` with `weights_only=False` (the current default value), which uses the default pickle module implicitly. It is possible to construct malicious pickle data which will execute arbitrary code during unpickling (See https://github.com/pytorch/pytorch/blob/main/SECURITY.md#untrusted-models for more details). In a future release, the default value for `weights_only` will be flipped to `True`. This limits the functions that could be executed during unpickling. Arbitrary objects will no longer be allowed to be loaded via this mode unless they are explicitly allowlisted by the user via `torch.serialization.add_safe_globals`. We recommend you start setting `weights_only=True` for any use case where you don't have full control of the loaded file. Please open an issue on GitHub for any issues related to this experimental feature.\n",
            "  saved = torch.load(args.filepath)\n",
            "/content/drive/MyDrive/FYP_Group27_Session2021/base_bert.py:115: FutureWarning: You are using `torch.load` with `weights_only=False` (the current default value), which uses the default pickle module implicitly. It is possible to construct malicious pickle data which will execute arbitrary code during unpickling (See https://github.com/pytorch/pytorch/blob/main/SECURITY.md#untrusted-models for more details). In a future release, the default value for `weights_only` will be flipped to `True`. This limits the functions that could be executed during unpickling. Arbitrary objects will no longer be allowed to be loaded via this mode unless they are explicitly allowlisted by the user via `torch.serialization.add_safe_globals`. We recommend you start setting `weights_only=True` for any use case where you don't have full control of the loaded file. Please open an issue on GitHub for any issues related to this experimental feature.\n",
            "  state_dict = torch.load(resolved_archive_file, map_location=\"cpu\")\n",
            "load model from cfimdb-classifier.pt\n",
            "load 245 data from data/ids-cfimdb-dev.csv\n",
            "device= cuda\n",
            "eval: 100% 31/31 [00:06<00:00,  4.90it/s]\n",
            "DONE DEV\n",
            "device= cuda\n",
            "eval: 100% 61/61 [00:12<00:00,  4.80it/s]\n",
            "DONE Test\n",
            "dev acc :: 0.788\n"
          ]
        }
      ],
      "source": [
        "!python classifier.py --fine-tune-mode last-linear-layer --lr 1e-3 --use_gpu"
      ]
    },
    {
      "cell_type": "code",
      "execution_count": null,
      "metadata": {
        "colab": {
          "base_uri": "https://localhost:8080/"
        },
        "id": "qBAhBiuHQwBJ",
        "outputId": "9b2a7ca1-e412-4778-d0c8-029e769b5929"
      },
      "outputs": [
        {
          "name": "stdout",
          "output_type": "stream",
          "text": [
            "Training Sentiment Classifier on SST...\n",
            "device= cuda\n",
            "load 8544 data from data/ids-sst-train.csv\n",
            "load 1101 data from data/ids-sst-dev.csv\n",
            "Downloading: 100% 232k/232k [00:00<00:00, 505kB/s]\n",
            "Downloading: 100% 570/570 [00:00<00:00, 3.06MB/s]\n",
            "Downloading: 100% 440M/440M [00:04<00:00, 95.2MB/s]\n",
            "/content/drive/MyDrive/FYP_Group27_Session2021/base_bert.py:115: FutureWarning: You are using `torch.load` with `weights_only=False` (the current default value), which uses the default pickle module implicitly. It is possible to construct malicious pickle data which will execute arbitrary code during unpickling (See https://github.com/pytorch/pytorch/blob/main/SECURITY.md#untrusted-models for more details). In a future release, the default value for `weights_only` will be flipped to `True`. This limits the functions that could be executed during unpickling. Arbitrary objects will no longer be allowed to be loaded via this mode unless they are explicitly allowlisted by the user via `torch.serialization.add_safe_globals`. We recommend you start setting `weights_only=True` for any use case where you don't have full control of the loaded file. Please open an issue on GitHub for any issues related to this experimental feature.\n",
            "  state_dict = torch.load(resolved_archive_file, map_location=\"cpu\")\n",
            "train-0: 100% 1068/1068 [02:52<00:00,  6.20it/s]\n",
            "device= cuda\n",
            "eval: 100% 1068/1068 [00:25<00:00, 41.51it/s]\n",
            "device= cuda\n",
            "eval: 100% 138/138 [00:03<00:00, 42.89it/s]\n",
            "save the model to sst-classifier.pt\n",
            "Epoch 0: train loss :: 1.270, train acc :: 0.589, dev acc :: 0.489\n",
            "train-1: 100% 1068/1068 [02:42<00:00,  6.56it/s]\n",
            "device= cuda\n",
            "eval: 100% 1068/1068 [00:25<00:00, 42.08it/s]\n",
            "device= cuda\n",
            "eval: 100% 138/138 [00:03<00:00, 44.65it/s]\n",
            "save the model to sst-classifier.pt\n",
            "Epoch 1: train loss :: 0.958, train acc :: 0.738, dev acc :: 0.522\n",
            "train-2: 100% 1068/1068 [02:44<00:00,  6.51it/s]\n",
            "device= cuda\n",
            "eval: 100% 1068/1068 [00:25<00:00, 41.72it/s]\n",
            "device= cuda\n",
            "eval: 100% 138/138 [00:03<00:00, 43.59it/s]\n",
            "Epoch 2: train loss :: 0.723, train acc :: 0.869, dev acc :: 0.520\n",
            "train-3: 100% 1068/1068 [02:39<00:00,  6.68it/s]\n",
            "device= cuda\n",
            "eval: 100% 1068/1068 [00:25<00:00, 42.02it/s]\n",
            "device= cuda\n",
            "eval: 100% 138/138 [00:03<00:00, 39.80it/s]\n",
            "save the model to sst-classifier.pt\n",
            "Epoch 3: train loss :: 0.502, train acc :: 0.917, dev acc :: 0.524\n",
            "train-4: 100% 1068/1068 [02:54<00:00,  6.14it/s]\n",
            "device= cuda\n",
            "eval: 100% 1068/1068 [00:25<00:00, 41.77it/s]\n",
            "device= cuda\n",
            "eval: 100% 138/138 [00:03<00:00, 43.66it/s]\n",
            "Epoch 4: train loss :: 0.319, train acc :: 0.957, dev acc :: 0.509\n",
            "train-5: 100% 1068/1068 [02:37<00:00,  6.76it/s]\n",
            "device= cuda\n",
            "eval: 100% 1068/1068 [00:25<00:00, 41.68it/s]\n",
            "device= cuda\n",
            "eval: 100% 138/138 [00:03<00:00, 44.05it/s]\n",
            "Epoch 5: train loss :: 0.224, train acc :: 0.970, dev acc :: 0.519\n",
            "train-6: 100% 1068/1068 [02:38<00:00,  6.72it/s]\n",
            "device= cuda\n",
            "eval: 100% 1068/1068 [00:25<00:00, 41.66it/s]\n",
            "device= cuda\n",
            "eval: 100% 138/138 [00:03<00:00, 43.81it/s]\n",
            "Epoch 6: train loss :: 0.154, train acc :: 0.978, dev acc :: 0.514\n",
            "train-7: 100% 1068/1068 [02:35<00:00,  6.85it/s]\n",
            "device= cuda\n",
            "eval: 100% 1068/1068 [00:25<00:00, 42.08it/s]\n",
            "device= cuda\n",
            "eval: 100% 138/138 [00:03<00:00, 44.40it/s]\n",
            "Epoch 7: train loss :: 0.112, train acc :: 0.979, dev acc :: 0.517\n",
            "train-8: 100% 1068/1068 [02:37<00:00,  6.76it/s]\n",
            "device= cuda\n",
            "eval: 100% 1068/1068 [00:25<00:00, 41.45it/s]\n",
            "device= cuda\n",
            "eval: 100% 138/138 [00:03<00:00, 43.37it/s]\n",
            "Epoch 8: train loss :: 0.094, train acc :: 0.986, dev acc :: 0.500\n",
            "train-9: 100% 1068/1068 [02:38<00:00,  6.76it/s]\n",
            "device= cuda\n",
            "eval: 100% 1068/1068 [00:25<00:00, 41.66it/s]\n",
            "device= cuda\n",
            "eval: 100% 138/138 [00:03<00:00, 44.07it/s]\n",
            "Epoch 9: train loss :: 0.086, train acc :: 0.987, dev acc :: 0.486\n",
            "Evaluating on SST...\n",
            "device= cuda\n",
            "/content/drive/MyDrive/FYP_Group27_Session2021/classifier.py:322: FutureWarning: You are using `torch.load` with `weights_only=False` (the current default value), which uses the default pickle module implicitly. It is possible to construct malicious pickle data which will execute arbitrary code during unpickling (See https://github.com/pytorch/pytorch/blob/main/SECURITY.md#untrusted-models for more details). In a future release, the default value for `weights_only` will be flipped to `True`. This limits the functions that could be executed during unpickling. Arbitrary objects will no longer be allowed to be loaded via this mode unless they are explicitly allowlisted by the user via `torch.serialization.add_safe_globals`. We recommend you start setting `weights_only=True` for any use case where you don't have full control of the loaded file. Please open an issue on GitHub for any issues related to this experimental feature.\n",
            "  saved = torch.load(args.filepath)\n",
            "/content/drive/MyDrive/FYP_Group27_Session2021/base_bert.py:115: FutureWarning: You are using `torch.load` with `weights_only=False` (the current default value), which uses the default pickle module implicitly. It is possible to construct malicious pickle data which will execute arbitrary code during unpickling (See https://github.com/pytorch/pytorch/blob/main/SECURITY.md#untrusted-models for more details). In a future release, the default value for `weights_only` will be flipped to `True`. This limits the functions that could be executed during unpickling. Arbitrary objects will no longer be allowed to be loaded via this mode unless they are explicitly allowlisted by the user via `torch.serialization.add_safe_globals`. We recommend you start setting `weights_only=True` for any use case where you don't have full control of the loaded file. Please open an issue on GitHub for any issues related to this experimental feature.\n",
            "  state_dict = torch.load(resolved_archive_file, map_location=\"cpu\")\n",
            "load model from sst-classifier.pt\n",
            "load 1101 data from data/ids-sst-dev.csv\n",
            "device= cuda\n",
            "eval: 100% 138/138 [00:03<00:00, 44.35it/s]\n",
            "DONE DEV\n",
            "device= cuda\n",
            "eval: 100% 277/277 [00:06<00:00, 42.93it/s]\n",
            "DONE Test\n",
            "dev acc :: 0.524\n",
            "Training Sentiment Classifier on cfimdb...\n",
            "device= cuda\n",
            "load 1707 data from data/ids-cfimdb-train.csv\n",
            "load 245 data from data/ids-cfimdb-dev.csv\n",
            "/content/drive/MyDrive/FYP_Group27_Session2021/base_bert.py:115: FutureWarning: You are using `torch.load` with `weights_only=False` (the current default value), which uses the default pickle module implicitly. It is possible to construct malicious pickle data which will execute arbitrary code during unpickling (See https://github.com/pytorch/pytorch/blob/main/SECURITY.md#untrusted-models for more details). In a future release, the default value for `weights_only` will be flipped to `True`. This limits the functions that could be executed during unpickling. Arbitrary objects will no longer be allowed to be loaded via this mode unless they are explicitly allowlisted by the user via `torch.serialization.add_safe_globals`. We recommend you start setting `weights_only=True` for any use case where you don't have full control of the loaded file. Please open an issue on GitHub for any issues related to this experimental feature.\n",
            "  state_dict = torch.load(resolved_archive_file, map_location=\"cpu\")\n",
            "train-0: 100% 214/214 [02:11<00:00,  1.63it/s]\n",
            "device= cuda\n",
            "eval: 100% 214/214 [00:45<00:00,  4.70it/s]\n",
            "device= cuda\n",
            "eval: 100% 31/31 [00:06<00:00,  4.73it/s]\n",
            "save the model to cfimdb-classifier.pt\n",
            "Epoch 0: train loss :: 0.372, train acc :: 0.980, dev acc :: 0.967\n",
            "train-1: 100% 214/214 [02:12<00:00,  1.62it/s]\n",
            "device= cuda\n",
            "eval: 100% 214/214 [00:44<00:00,  4.81it/s]\n",
            "device= cuda\n",
            "eval: 100% 31/31 [00:06<00:00,  4.73it/s]\n",
            "Epoch 1: train loss :: 0.094, train acc :: 0.991, dev acc :: 0.967\n",
            "train-2: 100% 214/214 [02:10<00:00,  1.64it/s]\n",
            "device= cuda\n",
            "eval: 100% 214/214 [00:45<00:00,  4.74it/s]\n",
            "device= cuda\n",
            "eval: 100% 31/31 [00:06<00:00,  4.66it/s]\n",
            "Epoch 2: train loss :: 0.045, train acc :: 0.995, dev acc :: 0.951\n",
            "train-3: 100% 214/214 [02:10<00:00,  1.64it/s]\n",
            "device= cuda\n",
            "eval: 100% 214/214 [00:45<00:00,  4.69it/s]\n",
            "device= cuda\n",
            "eval: 100% 31/31 [00:06<00:00,  4.79it/s]\n",
            "Epoch 3: train loss :: 0.029, train acc :: 0.998, dev acc :: 0.967\n",
            "train-4: 100% 214/214 [02:09<00:00,  1.65it/s]\n",
            "device= cuda\n",
            "eval: 100% 214/214 [00:45<00:00,  4.67it/s]\n",
            "device= cuda\n",
            "eval: 100% 31/31 [00:06<00:00,  4.80it/s]\n",
            "Epoch 4: train loss :: 0.039, train acc :: 0.996, dev acc :: 0.967\n",
            "train-5: 100% 214/214 [02:10<00:00,  1.64it/s]\n",
            "device= cuda\n",
            "eval: 100% 214/214 [00:45<00:00,  4.73it/s]\n",
            "device= cuda\n",
            "eval: 100% 31/31 [00:06<00:00,  4.73it/s]\n",
            "Epoch 5: train loss :: 0.017, train acc :: 1.000, dev acc :: 0.959\n",
            "train-6: 100% 214/214 [02:10<00:00,  1.64it/s]\n",
            "device= cuda\n",
            "eval: 100% 214/214 [00:45<00:00,  4.74it/s]\n",
            "device= cuda\n",
            "eval: 100% 31/31 [00:06<00:00,  4.66it/s]\n",
            "Epoch 6: train loss :: 0.004, train acc :: 1.000, dev acc :: 0.947\n",
            "train-7: 100% 214/214 [02:09<00:00,  1.65it/s]\n",
            "device= cuda\n",
            "eval: 100% 214/214 [00:45<00:00,  4.71it/s]\n",
            "device= cuda\n",
            "eval: 100% 31/31 [00:06<00:00,  4.64it/s]\n",
            "Epoch 7: train loss :: 0.002, train acc :: 1.000, dev acc :: 0.947\n",
            "train-8: 100% 214/214 [02:09<00:00,  1.66it/s]\n",
            "device= cuda\n",
            "eval: 100% 214/214 [00:46<00:00,  4.64it/s]\n",
            "device= cuda\n",
            "eval: 100% 31/31 [00:06<00:00,  4.79it/s]\n",
            "Epoch 8: train loss :: 0.001, train acc :: 1.000, dev acc :: 0.947\n",
            "train-9: 100% 214/214 [02:10<00:00,  1.64it/s]\n",
            "device= cuda\n",
            "eval: 100% 214/214 [00:45<00:00,  4.75it/s]\n",
            "device= cuda\n",
            "eval: 100% 31/31 [00:06<00:00,  4.78it/s]\n",
            "Epoch 9: train loss :: 0.001, train acc :: 1.000, dev acc :: 0.947\n",
            "Evaluating on cfimdb...\n",
            "device= cuda\n",
            "/content/drive/MyDrive/FYP_Group27_Session2021/classifier.py:322: FutureWarning: You are using `torch.load` with `weights_only=False` (the current default value), which uses the default pickle module implicitly. It is possible to construct malicious pickle data which will execute arbitrary code during unpickling (See https://github.com/pytorch/pytorch/blob/main/SECURITY.md#untrusted-models for more details). In a future release, the default value for `weights_only` will be flipped to `True`. This limits the functions that could be executed during unpickling. Arbitrary objects will no longer be allowed to be loaded via this mode unless they are explicitly allowlisted by the user via `torch.serialization.add_safe_globals`. We recommend you start setting `weights_only=True` for any use case where you don't have full control of the loaded file. Please open an issue on GitHub for any issues related to this experimental feature.\n",
            "  saved = torch.load(args.filepath)\n",
            "/content/drive/MyDrive/FYP_Group27_Session2021/base_bert.py:115: FutureWarning: You are using `torch.load` with `weights_only=False` (the current default value), which uses the default pickle module implicitly. It is possible to construct malicious pickle data which will execute arbitrary code during unpickling (See https://github.com/pytorch/pytorch/blob/main/SECURITY.md#untrusted-models for more details). In a future release, the default value for `weights_only` will be flipped to `True`. This limits the functions that could be executed during unpickling. Arbitrary objects will no longer be allowed to be loaded via this mode unless they are explicitly allowlisted by the user via `torch.serialization.add_safe_globals`. We recommend you start setting `weights_only=True` for any use case where you don't have full control of the loaded file. Please open an issue on GitHub for any issues related to this experimental feature.\n",
            "  state_dict = torch.load(resolved_archive_file, map_location=\"cpu\")\n",
            "load model from cfimdb-classifier.pt\n",
            "load 245 data from data/ids-cfimdb-dev.csv\n",
            "device= cuda\n",
            "eval: 100% 31/31 [00:06<00:00,  4.85it/s]\n",
            "DONE DEV\n",
            "device= cuda\n",
            "eval: 100% 61/61 [00:13<00:00,  4.53it/s]\n",
            "DONE Test\n",
            "dev acc :: 0.967\n"
          ]
        }
      ],
      "source": [
        "!python classifier.py --fine-tune-mode full-model --lr 1e-5 --use_gpu"
      ]
    }
  ],
  "metadata": {
    "accelerator": "GPU",
    "colab": {
      "gpuType": "T4",
      "provenance": []
    },
    "kernelspec": {
      "display_name": "Python 3",
      "name": "python3"
    },
    "language_info": {
      "name": "python"
    }
  },
  "nbformat": 4,
  "nbformat_minor": 0
}
